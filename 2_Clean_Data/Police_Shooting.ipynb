{
 "cells": [
  {
   "cell_type": "code",
   "execution_count": 1,
   "id": "4699e130",
   "metadata": {},
   "outputs": [],
   "source": [
    "import pandas as pd"
   ]
  },
  {
   "cell_type": "code",
   "execution_count": 2,
   "id": "96ddf292",
   "metadata": {},
   "outputs": [],
   "source": [
    "states_data = pd.read_csv('../1_Data/usa_states.csv')"
   ]
  },
  {
   "cell_type": "code",
   "execution_count": 3,
   "id": "0c3ac82a",
   "metadata": {},
   "outputs": [],
   "source": [
    "shooting_data = pd.read_csv('../1_Data/police-shootings.csv')"
   ]
  },
  {
   "cell_type": "code",
   "execution_count": 4,
   "id": "8a18aefe",
   "metadata": {},
   "outputs": [
    {
     "data": {
      "text/html": [
       "<div>\n",
       "<style scoped>\n",
       "    .dataframe tbody tr th:only-of-type {\n",
       "        vertical-align: middle;\n",
       "    }\n",
       "\n",
       "    .dataframe tbody tr th {\n",
       "        vertical-align: top;\n",
       "    }\n",
       "\n",
       "    .dataframe thead th {\n",
       "        text-align: right;\n",
       "    }\n",
       "</style>\n",
       "<table border=\"1\" class=\"dataframe\">\n",
       "  <thead>\n",
       "    <tr style=\"text-align: right;\">\n",
       "      <th></th>\n",
       "      <th>State Name</th>\n",
       "      <th>USPS Abbreviation</th>\n",
       "    </tr>\n",
       "  </thead>\n",
       "  <tbody>\n",
       "    <tr>\n",
       "      <th>0</th>\n",
       "      <td>Alabama</td>\n",
       "      <td>AL</td>\n",
       "    </tr>\n",
       "    <tr>\n",
       "      <th>1</th>\n",
       "      <td>Alaska</td>\n",
       "      <td>AK</td>\n",
       "    </tr>\n",
       "    <tr>\n",
       "      <th>2</th>\n",
       "      <td>Arizona</td>\n",
       "      <td>AZ</td>\n",
       "    </tr>\n",
       "    <tr>\n",
       "      <th>3</th>\n",
       "      <td>Arkansas</td>\n",
       "      <td>AR</td>\n",
       "    </tr>\n",
       "    <tr>\n",
       "      <th>4</th>\n",
       "      <td>California</td>\n",
       "      <td>CA</td>\n",
       "    </tr>\n",
       "  </tbody>\n",
       "</table>\n",
       "</div>"
      ],
      "text/plain": [
       "   State Name USPS Abbreviation\n",
       "0     Alabama                AL\n",
       "1      Alaska                AK\n",
       "2     Arizona                AZ\n",
       "3    Arkansas                AR\n",
       "4  California                CA"
      ]
     },
     "execution_count": 4,
     "metadata": {},
     "output_type": "execute_result"
    }
   ],
   "source": [
    "states_data.head()"
   ]
  },
  {
   "cell_type": "code",
   "execution_count": 5,
   "id": "f28f7dbc",
   "metadata": {},
   "outputs": [],
   "source": [
    "states_data.columns = ['state_name', 'state_abbr']"
   ]
  },
  {
   "cell_type": "code",
   "execution_count": 6,
   "id": "33852110",
   "metadata": {},
   "outputs": [
    {
     "data": {
      "text/html": [
       "<div>\n",
       "<style scoped>\n",
       "    .dataframe tbody tr th:only-of-type {\n",
       "        vertical-align: middle;\n",
       "    }\n",
       "\n",
       "    .dataframe tbody tr th {\n",
       "        vertical-align: top;\n",
       "    }\n",
       "\n",
       "    .dataframe thead th {\n",
       "        text-align: right;\n",
       "    }\n",
       "</style>\n",
       "<table border=\"1\" class=\"dataframe\">\n",
       "  <thead>\n",
       "    <tr style=\"text-align: right;\">\n",
       "      <th></th>\n",
       "      <th>state_name</th>\n",
       "      <th>state_abbr</th>\n",
       "    </tr>\n",
       "  </thead>\n",
       "  <tbody>\n",
       "    <tr>\n",
       "      <th>0</th>\n",
       "      <td>Alabama</td>\n",
       "      <td>AL</td>\n",
       "    </tr>\n",
       "    <tr>\n",
       "      <th>1</th>\n",
       "      <td>Alaska</td>\n",
       "      <td>AK</td>\n",
       "    </tr>\n",
       "    <tr>\n",
       "      <th>2</th>\n",
       "      <td>Arizona</td>\n",
       "      <td>AZ</td>\n",
       "    </tr>\n",
       "    <tr>\n",
       "      <th>3</th>\n",
       "      <td>Arkansas</td>\n",
       "      <td>AR</td>\n",
       "    </tr>\n",
       "    <tr>\n",
       "      <th>4</th>\n",
       "      <td>California</td>\n",
       "      <td>CA</td>\n",
       "    </tr>\n",
       "  </tbody>\n",
       "</table>\n",
       "</div>"
      ],
      "text/plain": [
       "   state_name state_abbr\n",
       "0     Alabama         AL\n",
       "1      Alaska         AK\n",
       "2     Arizona         AZ\n",
       "3    Arkansas         AR\n",
       "4  California         CA"
      ]
     },
     "execution_count": 6,
     "metadata": {},
     "output_type": "execute_result"
    }
   ],
   "source": [
    "states_data.head()"
   ]
  },
  {
   "cell_type": "code",
   "execution_count": 7,
   "id": "621a66bf",
   "metadata": {},
   "outputs": [
    {
     "data": {
      "text/plain": [
       "(50, 2)"
      ]
     },
     "execution_count": 7,
     "metadata": {},
     "output_type": "execute_result"
    }
   ],
   "source": [
    "states_data.shape"
   ]
  },
  {
   "cell_type": "code",
   "execution_count": 8,
   "id": "292642cb",
   "metadata": {},
   "outputs": [
    {
     "data": {
      "text/html": [
       "<div>\n",
       "<style scoped>\n",
       "    .dataframe tbody tr th:only-of-type {\n",
       "        vertical-align: middle;\n",
       "    }\n",
       "\n",
       "    .dataframe tbody tr th {\n",
       "        vertical-align: top;\n",
       "    }\n",
       "\n",
       "    .dataframe thead th {\n",
       "        text-align: right;\n",
       "    }\n",
       "</style>\n",
       "<table border=\"1\" class=\"dataframe\">\n",
       "  <thead>\n",
       "    <tr style=\"text-align: right;\">\n",
       "      <th></th>\n",
       "      <th>id</th>\n",
       "      <th>name</th>\n",
       "      <th>date</th>\n",
       "      <th>manner_of_death</th>\n",
       "      <th>armed</th>\n",
       "      <th>age</th>\n",
       "      <th>gender</th>\n",
       "      <th>race</th>\n",
       "      <th>city</th>\n",
       "      <th>state</th>\n",
       "      <th>signs_of_mental_illness</th>\n",
       "      <th>threat_level</th>\n",
       "      <th>flee</th>\n",
       "      <th>body_camera</th>\n",
       "      <th>longitude</th>\n",
       "      <th>latitude</th>\n",
       "      <th>is_geocoding_exact</th>\n",
       "    </tr>\n",
       "  </thead>\n",
       "  <tbody>\n",
       "    <tr>\n",
       "      <th>0</th>\n",
       "      <td>3</td>\n",
       "      <td>Tim Elliot</td>\n",
       "      <td>2015-01-02</td>\n",
       "      <td>shot</td>\n",
       "      <td>gun</td>\n",
       "      <td>53.0</td>\n",
       "      <td>M</td>\n",
       "      <td>A</td>\n",
       "      <td>Shelton</td>\n",
       "      <td>WA</td>\n",
       "      <td>True</td>\n",
       "      <td>attack</td>\n",
       "      <td>Not fleeing</td>\n",
       "      <td>False</td>\n",
       "      <td>-123.122</td>\n",
       "      <td>47.247</td>\n",
       "      <td>True</td>\n",
       "    </tr>\n",
       "    <tr>\n",
       "      <th>1</th>\n",
       "      <td>4</td>\n",
       "      <td>Lewis Lee Lembke</td>\n",
       "      <td>2015-01-02</td>\n",
       "      <td>shot</td>\n",
       "      <td>gun</td>\n",
       "      <td>47.0</td>\n",
       "      <td>M</td>\n",
       "      <td>W</td>\n",
       "      <td>Aloha</td>\n",
       "      <td>OR</td>\n",
       "      <td>False</td>\n",
       "      <td>attack</td>\n",
       "      <td>Not fleeing</td>\n",
       "      <td>False</td>\n",
       "      <td>-122.892</td>\n",
       "      <td>45.487</td>\n",
       "      <td>True</td>\n",
       "    </tr>\n",
       "    <tr>\n",
       "      <th>2</th>\n",
       "      <td>5</td>\n",
       "      <td>John Paul Quintero</td>\n",
       "      <td>2015-01-03</td>\n",
       "      <td>shot and Tasered</td>\n",
       "      <td>unarmed</td>\n",
       "      <td>23.0</td>\n",
       "      <td>M</td>\n",
       "      <td>H</td>\n",
       "      <td>Wichita</td>\n",
       "      <td>KS</td>\n",
       "      <td>False</td>\n",
       "      <td>other</td>\n",
       "      <td>Not fleeing</td>\n",
       "      <td>False</td>\n",
       "      <td>-97.281</td>\n",
       "      <td>37.695</td>\n",
       "      <td>True</td>\n",
       "    </tr>\n",
       "    <tr>\n",
       "      <th>3</th>\n",
       "      <td>8</td>\n",
       "      <td>Matthew Hoffman</td>\n",
       "      <td>2015-01-04</td>\n",
       "      <td>shot</td>\n",
       "      <td>toy weapon</td>\n",
       "      <td>32.0</td>\n",
       "      <td>M</td>\n",
       "      <td>W</td>\n",
       "      <td>San Francisco</td>\n",
       "      <td>CA</td>\n",
       "      <td>True</td>\n",
       "      <td>attack</td>\n",
       "      <td>Not fleeing</td>\n",
       "      <td>False</td>\n",
       "      <td>-122.422</td>\n",
       "      <td>37.763</td>\n",
       "      <td>True</td>\n",
       "    </tr>\n",
       "    <tr>\n",
       "      <th>4</th>\n",
       "      <td>9</td>\n",
       "      <td>Michael Rodriguez</td>\n",
       "      <td>2015-01-04</td>\n",
       "      <td>shot</td>\n",
       "      <td>nail gun</td>\n",
       "      <td>39.0</td>\n",
       "      <td>M</td>\n",
       "      <td>H</td>\n",
       "      <td>Evans</td>\n",
       "      <td>CO</td>\n",
       "      <td>False</td>\n",
       "      <td>attack</td>\n",
       "      <td>Not fleeing</td>\n",
       "      <td>False</td>\n",
       "      <td>-104.692</td>\n",
       "      <td>40.384</td>\n",
       "      <td>True</td>\n",
       "    </tr>\n",
       "  </tbody>\n",
       "</table>\n",
       "</div>"
      ],
      "text/plain": [
       "   id                name        date   manner_of_death       armed   age  \\\n",
       "0   3          Tim Elliot  2015-01-02              shot         gun  53.0   \n",
       "1   4    Lewis Lee Lembke  2015-01-02              shot         gun  47.0   \n",
       "2   5  John Paul Quintero  2015-01-03  shot and Tasered     unarmed  23.0   \n",
       "3   8     Matthew Hoffman  2015-01-04              shot  toy weapon  32.0   \n",
       "4   9   Michael Rodriguez  2015-01-04              shot    nail gun  39.0   \n",
       "\n",
       "  gender race           city state  signs_of_mental_illness threat_level  \\\n",
       "0      M    A        Shelton    WA                     True       attack   \n",
       "1      M    W          Aloha    OR                    False       attack   \n",
       "2      M    H        Wichita    KS                    False        other   \n",
       "3      M    W  San Francisco    CA                     True       attack   \n",
       "4      M    H          Evans    CO                    False       attack   \n",
       "\n",
       "          flee  body_camera  longitude  latitude  is_geocoding_exact  \n",
       "0  Not fleeing        False   -123.122    47.247                True  \n",
       "1  Not fleeing        False   -122.892    45.487                True  \n",
       "2  Not fleeing        False    -97.281    37.695                True  \n",
       "3  Not fleeing        False   -122.422    37.763                True  \n",
       "4  Not fleeing        False   -104.692    40.384                True  "
      ]
     },
     "execution_count": 8,
     "metadata": {},
     "output_type": "execute_result"
    }
   ],
   "source": [
    "shooting_data.head()"
   ]
  },
  {
   "cell_type": "code",
   "execution_count": 9,
   "id": "49b642d8",
   "metadata": {},
   "outputs": [
    {
     "data": {
      "text/plain": [
       "(8002, 17)"
      ]
     },
     "execution_count": 9,
     "metadata": {},
     "output_type": "execute_result"
    }
   ],
   "source": [
    "shooting_data.shape"
   ]
  },
  {
   "cell_type": "code",
   "execution_count": 10,
   "id": "897ea9b5",
   "metadata": {},
   "outputs": [],
   "source": [
    "states_data['state_name'] = states_data['state_name'].str.strip(' ')"
   ]
  },
  {
   "cell_type": "code",
   "execution_count": 11,
   "id": "7c1f2cf7",
   "metadata": {},
   "outputs": [],
   "source": [
    "states_data['state_abbr'] = states_data['state_abbr'].str.strip(' ')"
   ]
  },
  {
   "cell_type": "code",
   "execution_count": 12,
   "id": "6acc1328",
   "metadata": {},
   "outputs": [
    {
     "data": {
      "text/plain": [
       "Alabama           1\n",
       "Pennsylvania      1\n",
       "Nevada            1\n",
       "New Hampshire     1\n",
       "New Jersey        1\n",
       "New Mexico        1\n",
       "New York          1\n",
       "North Carolina    1\n",
       "North Dakota      1\n",
       "Ohio              1\n",
       "Oklahoma          1\n",
       "Oregon            1\n",
       "Rhode Island      1\n",
       "Alaska            1\n",
       "South Carolina    1\n",
       "South Dakota      1\n",
       "Tennessee         1\n",
       "Texas             1\n",
       "Utah              1\n",
       "Vermont           1\n",
       "Virginia          1\n",
       "Washington        1\n",
       "West Virginia     1\n",
       "Wisconsin         1\n",
       "Nebraska          1\n",
       "Montana           1\n",
       "Missouri          1\n",
       "Mississippi       1\n",
       "Arizona           1\n",
       "Arkansas          1\n",
       "California        1\n",
       "Colorado          1\n",
       "Connecticut       1\n",
       "Delaware          1\n",
       "Florida           1\n",
       "Georgia           1\n",
       "Hawaii            1\n",
       "Idaho             1\n",
       "Illinois          1\n",
       "Indiana           1\n",
       "Iowa              1\n",
       "Kansas            1\n",
       "Kentucky          1\n",
       "Louisiana         1\n",
       "Maine             1\n",
       "Maryland          1\n",
       "Massachusetts     1\n",
       "Michigan          1\n",
       "Minnesota         1\n",
       "Wyoming           1\n",
       "Name: state_name, dtype: int64"
      ]
     },
     "execution_count": 12,
     "metadata": {},
     "output_type": "execute_result"
    }
   ],
   "source": [
    "states_data.state_name.value_counts()"
   ]
  },
  {
   "cell_type": "code",
   "execution_count": 13,
   "id": "dbbade8d",
   "metadata": {},
   "outputs": [],
   "source": [
    "shooting_data = shooting_data.merge(states_data, how='left', left_on='state', right_on='state_abbr')"
   ]
  },
  {
   "cell_type": "code",
   "execution_count": 14,
   "id": "455be09c",
   "metadata": {},
   "outputs": [
    {
     "data": {
      "text/html": [
       "<div>\n",
       "<style scoped>\n",
       "    .dataframe tbody tr th:only-of-type {\n",
       "        vertical-align: middle;\n",
       "    }\n",
       "\n",
       "    .dataframe tbody tr th {\n",
       "        vertical-align: top;\n",
       "    }\n",
       "\n",
       "    .dataframe thead th {\n",
       "        text-align: right;\n",
       "    }\n",
       "</style>\n",
       "<table border=\"1\" class=\"dataframe\">\n",
       "  <thead>\n",
       "    <tr style=\"text-align: right;\">\n",
       "      <th></th>\n",
       "      <th>id</th>\n",
       "      <th>name</th>\n",
       "      <th>date</th>\n",
       "      <th>manner_of_death</th>\n",
       "      <th>armed</th>\n",
       "      <th>age</th>\n",
       "      <th>gender</th>\n",
       "      <th>race</th>\n",
       "      <th>city</th>\n",
       "      <th>state</th>\n",
       "      <th>signs_of_mental_illness</th>\n",
       "      <th>threat_level</th>\n",
       "      <th>flee</th>\n",
       "      <th>body_camera</th>\n",
       "      <th>longitude</th>\n",
       "      <th>latitude</th>\n",
       "      <th>is_geocoding_exact</th>\n",
       "      <th>state_name</th>\n",
       "      <th>state_abbr</th>\n",
       "    </tr>\n",
       "  </thead>\n",
       "  <tbody>\n",
       "    <tr>\n",
       "      <th>0</th>\n",
       "      <td>3</td>\n",
       "      <td>Tim Elliot</td>\n",
       "      <td>2015-01-02</td>\n",
       "      <td>shot</td>\n",
       "      <td>gun</td>\n",
       "      <td>53.0</td>\n",
       "      <td>M</td>\n",
       "      <td>A</td>\n",
       "      <td>Shelton</td>\n",
       "      <td>WA</td>\n",
       "      <td>True</td>\n",
       "      <td>attack</td>\n",
       "      <td>Not fleeing</td>\n",
       "      <td>False</td>\n",
       "      <td>-123.122</td>\n",
       "      <td>47.247</td>\n",
       "      <td>True</td>\n",
       "      <td>Washington</td>\n",
       "      <td>WA</td>\n",
       "    </tr>\n",
       "    <tr>\n",
       "      <th>1</th>\n",
       "      <td>4</td>\n",
       "      <td>Lewis Lee Lembke</td>\n",
       "      <td>2015-01-02</td>\n",
       "      <td>shot</td>\n",
       "      <td>gun</td>\n",
       "      <td>47.0</td>\n",
       "      <td>M</td>\n",
       "      <td>W</td>\n",
       "      <td>Aloha</td>\n",
       "      <td>OR</td>\n",
       "      <td>False</td>\n",
       "      <td>attack</td>\n",
       "      <td>Not fleeing</td>\n",
       "      <td>False</td>\n",
       "      <td>-122.892</td>\n",
       "      <td>45.487</td>\n",
       "      <td>True</td>\n",
       "      <td>Oregon</td>\n",
       "      <td>OR</td>\n",
       "    </tr>\n",
       "    <tr>\n",
       "      <th>2</th>\n",
       "      <td>5</td>\n",
       "      <td>John Paul Quintero</td>\n",
       "      <td>2015-01-03</td>\n",
       "      <td>shot and Tasered</td>\n",
       "      <td>unarmed</td>\n",
       "      <td>23.0</td>\n",
       "      <td>M</td>\n",
       "      <td>H</td>\n",
       "      <td>Wichita</td>\n",
       "      <td>KS</td>\n",
       "      <td>False</td>\n",
       "      <td>other</td>\n",
       "      <td>Not fleeing</td>\n",
       "      <td>False</td>\n",
       "      <td>-97.281</td>\n",
       "      <td>37.695</td>\n",
       "      <td>True</td>\n",
       "      <td>Kansas</td>\n",
       "      <td>KS</td>\n",
       "    </tr>\n",
       "    <tr>\n",
       "      <th>3</th>\n",
       "      <td>8</td>\n",
       "      <td>Matthew Hoffman</td>\n",
       "      <td>2015-01-04</td>\n",
       "      <td>shot</td>\n",
       "      <td>toy weapon</td>\n",
       "      <td>32.0</td>\n",
       "      <td>M</td>\n",
       "      <td>W</td>\n",
       "      <td>San Francisco</td>\n",
       "      <td>CA</td>\n",
       "      <td>True</td>\n",
       "      <td>attack</td>\n",
       "      <td>Not fleeing</td>\n",
       "      <td>False</td>\n",
       "      <td>-122.422</td>\n",
       "      <td>37.763</td>\n",
       "      <td>True</td>\n",
       "      <td>California</td>\n",
       "      <td>CA</td>\n",
       "    </tr>\n",
       "    <tr>\n",
       "      <th>4</th>\n",
       "      <td>9</td>\n",
       "      <td>Michael Rodriguez</td>\n",
       "      <td>2015-01-04</td>\n",
       "      <td>shot</td>\n",
       "      <td>nail gun</td>\n",
       "      <td>39.0</td>\n",
       "      <td>M</td>\n",
       "      <td>H</td>\n",
       "      <td>Evans</td>\n",
       "      <td>CO</td>\n",
       "      <td>False</td>\n",
       "      <td>attack</td>\n",
       "      <td>Not fleeing</td>\n",
       "      <td>False</td>\n",
       "      <td>-104.692</td>\n",
       "      <td>40.384</td>\n",
       "      <td>True</td>\n",
       "      <td>Colorado</td>\n",
       "      <td>CO</td>\n",
       "    </tr>\n",
       "  </tbody>\n",
       "</table>\n",
       "</div>"
      ],
      "text/plain": [
       "   id                name        date   manner_of_death       armed   age  \\\n",
       "0   3          Tim Elliot  2015-01-02              shot         gun  53.0   \n",
       "1   4    Lewis Lee Lembke  2015-01-02              shot         gun  47.0   \n",
       "2   5  John Paul Quintero  2015-01-03  shot and Tasered     unarmed  23.0   \n",
       "3   8     Matthew Hoffman  2015-01-04              shot  toy weapon  32.0   \n",
       "4   9   Michael Rodriguez  2015-01-04              shot    nail gun  39.0   \n",
       "\n",
       "  gender race           city state  signs_of_mental_illness threat_level  \\\n",
       "0      M    A        Shelton    WA                     True       attack   \n",
       "1      M    W          Aloha    OR                    False       attack   \n",
       "2      M    H        Wichita    KS                    False        other   \n",
       "3      M    W  San Francisco    CA                     True       attack   \n",
       "4      M    H          Evans    CO                    False       attack   \n",
       "\n",
       "          flee  body_camera  longitude  latitude  is_geocoding_exact  \\\n",
       "0  Not fleeing        False   -123.122    47.247                True   \n",
       "1  Not fleeing        False   -122.892    45.487                True   \n",
       "2  Not fleeing        False    -97.281    37.695                True   \n",
       "3  Not fleeing        False   -122.422    37.763                True   \n",
       "4  Not fleeing        False   -104.692    40.384                True   \n",
       "\n",
       "   state_name state_abbr  \n",
       "0  Washington         WA  \n",
       "1      Oregon         OR  \n",
       "2      Kansas         KS  \n",
       "3  California         CA  \n",
       "4    Colorado         CO  "
      ]
     },
     "execution_count": 14,
     "metadata": {},
     "output_type": "execute_result"
    }
   ],
   "source": [
    "shooting_data.head()"
   ]
  },
  {
   "cell_type": "code",
   "execution_count": null,
   "id": "9210cf13",
   "metadata": {},
   "outputs": [],
   "source": []
  },
  {
   "cell_type": "code",
   "execution_count": 15,
   "id": "600d24f9",
   "metadata": {},
   "outputs": [
    {
     "data": {
      "text/html": [
       "<div>\n",
       "<style scoped>\n",
       "    .dataframe tbody tr th:only-of-type {\n",
       "        vertical-align: middle;\n",
       "    }\n",
       "\n",
       "    .dataframe tbody tr th {\n",
       "        vertical-align: top;\n",
       "    }\n",
       "\n",
       "    .dataframe thead th {\n",
       "        text-align: right;\n",
       "    }\n",
       "</style>\n",
       "<table border=\"1\" class=\"dataframe\">\n",
       "  <thead>\n",
       "    <tr style=\"text-align: right;\">\n",
       "      <th></th>\n",
       "      <th>id</th>\n",
       "      <th>name</th>\n",
       "      <th>date</th>\n",
       "      <th>manner_of_death</th>\n",
       "      <th>armed</th>\n",
       "      <th>age</th>\n",
       "      <th>gender</th>\n",
       "      <th>race</th>\n",
       "      <th>city</th>\n",
       "      <th>state</th>\n",
       "      <th>signs_of_mental_illness</th>\n",
       "      <th>threat_level</th>\n",
       "      <th>flee</th>\n",
       "      <th>body_camera</th>\n",
       "      <th>longitude</th>\n",
       "      <th>latitude</th>\n",
       "      <th>is_geocoding_exact</th>\n",
       "      <th>state_name</th>\n",
       "      <th>state_abbr</th>\n",
       "    </tr>\n",
       "  </thead>\n",
       "  <tbody>\n",
       "    <tr>\n",
       "      <th>0</th>\n",
       "      <td>3</td>\n",
       "      <td>Tim Elliot</td>\n",
       "      <td>2015-01-02</td>\n",
       "      <td>shot</td>\n",
       "      <td>gun</td>\n",
       "      <td>53.0</td>\n",
       "      <td>M</td>\n",
       "      <td>A</td>\n",
       "      <td>Shelton</td>\n",
       "      <td>WA</td>\n",
       "      <td>True</td>\n",
       "      <td>attack</td>\n",
       "      <td>Not fleeing</td>\n",
       "      <td>False</td>\n",
       "      <td>-123.122</td>\n",
       "      <td>47.247</td>\n",
       "      <td>True</td>\n",
       "      <td>Washington</td>\n",
       "      <td>WA</td>\n",
       "    </tr>\n",
       "    <tr>\n",
       "      <th>1</th>\n",
       "      <td>4</td>\n",
       "      <td>Lewis Lee Lembke</td>\n",
       "      <td>2015-01-02</td>\n",
       "      <td>shot</td>\n",
       "      <td>gun</td>\n",
       "      <td>47.0</td>\n",
       "      <td>M</td>\n",
       "      <td>W</td>\n",
       "      <td>Aloha</td>\n",
       "      <td>OR</td>\n",
       "      <td>False</td>\n",
       "      <td>attack</td>\n",
       "      <td>Not fleeing</td>\n",
       "      <td>False</td>\n",
       "      <td>-122.892</td>\n",
       "      <td>45.487</td>\n",
       "      <td>True</td>\n",
       "      <td>Oregon</td>\n",
       "      <td>OR</td>\n",
       "    </tr>\n",
       "    <tr>\n",
       "      <th>2</th>\n",
       "      <td>5</td>\n",
       "      <td>John Paul Quintero</td>\n",
       "      <td>2015-01-03</td>\n",
       "      <td>shot and Tasered</td>\n",
       "      <td>unarmed</td>\n",
       "      <td>23.0</td>\n",
       "      <td>M</td>\n",
       "      <td>H</td>\n",
       "      <td>Wichita</td>\n",
       "      <td>KS</td>\n",
       "      <td>False</td>\n",
       "      <td>other</td>\n",
       "      <td>Not fleeing</td>\n",
       "      <td>False</td>\n",
       "      <td>-97.281</td>\n",
       "      <td>37.695</td>\n",
       "      <td>True</td>\n",
       "      <td>Kansas</td>\n",
       "      <td>KS</td>\n",
       "    </tr>\n",
       "    <tr>\n",
       "      <th>3</th>\n",
       "      <td>8</td>\n",
       "      <td>Matthew Hoffman</td>\n",
       "      <td>2015-01-04</td>\n",
       "      <td>shot</td>\n",
       "      <td>toy weapon</td>\n",
       "      <td>32.0</td>\n",
       "      <td>M</td>\n",
       "      <td>W</td>\n",
       "      <td>San Francisco</td>\n",
       "      <td>CA</td>\n",
       "      <td>True</td>\n",
       "      <td>attack</td>\n",
       "      <td>Not fleeing</td>\n",
       "      <td>False</td>\n",
       "      <td>-122.422</td>\n",
       "      <td>37.763</td>\n",
       "      <td>True</td>\n",
       "      <td>California</td>\n",
       "      <td>CA</td>\n",
       "    </tr>\n",
       "    <tr>\n",
       "      <th>4</th>\n",
       "      <td>9</td>\n",
       "      <td>Michael Rodriguez</td>\n",
       "      <td>2015-01-04</td>\n",
       "      <td>shot</td>\n",
       "      <td>nail gun</td>\n",
       "      <td>39.0</td>\n",
       "      <td>M</td>\n",
       "      <td>H</td>\n",
       "      <td>Evans</td>\n",
       "      <td>CO</td>\n",
       "      <td>False</td>\n",
       "      <td>attack</td>\n",
       "      <td>Not fleeing</td>\n",
       "      <td>False</td>\n",
       "      <td>-104.692</td>\n",
       "      <td>40.384</td>\n",
       "      <td>True</td>\n",
       "      <td>Colorado</td>\n",
       "      <td>CO</td>\n",
       "    </tr>\n",
       "  </tbody>\n",
       "</table>\n",
       "</div>"
      ],
      "text/plain": [
       "   id                name        date   manner_of_death       armed   age  \\\n",
       "0   3          Tim Elliot  2015-01-02              shot         gun  53.0   \n",
       "1   4    Lewis Lee Lembke  2015-01-02              shot         gun  47.0   \n",
       "2   5  John Paul Quintero  2015-01-03  shot and Tasered     unarmed  23.0   \n",
       "3   8     Matthew Hoffman  2015-01-04              shot  toy weapon  32.0   \n",
       "4   9   Michael Rodriguez  2015-01-04              shot    nail gun  39.0   \n",
       "\n",
       "  gender race           city state  signs_of_mental_illness threat_level  \\\n",
       "0      M    A        Shelton    WA                     True       attack   \n",
       "1      M    W          Aloha    OR                    False       attack   \n",
       "2      M    H        Wichita    KS                    False        other   \n",
       "3      M    W  San Francisco    CA                     True       attack   \n",
       "4      M    H          Evans    CO                    False       attack   \n",
       "\n",
       "          flee  body_camera  longitude  latitude  is_geocoding_exact  \\\n",
       "0  Not fleeing        False   -123.122    47.247                True   \n",
       "1  Not fleeing        False   -122.892    45.487                True   \n",
       "2  Not fleeing        False    -97.281    37.695                True   \n",
       "3  Not fleeing        False   -122.422    37.763                True   \n",
       "4  Not fleeing        False   -104.692    40.384                True   \n",
       "\n",
       "   state_name state_abbr  \n",
       "0  Washington         WA  \n",
       "1      Oregon         OR  \n",
       "2      Kansas         KS  \n",
       "3  California         CA  \n",
       "4    Colorado         CO  "
      ]
     },
     "execution_count": 15,
     "metadata": {},
     "output_type": "execute_result"
    }
   ],
   "source": [
    "shooting_data.head()"
   ]
  },
  {
   "cell_type": "code",
   "execution_count": 16,
   "id": "922164b4",
   "metadata": {},
   "outputs": [
    {
     "data": {
      "text/plain": [
       "id                           int64\n",
       "name                        object\n",
       "date                        object\n",
       "manner_of_death             object\n",
       "armed                       object\n",
       "age                        float64\n",
       "gender                      object\n",
       "race                        object\n",
       "city                        object\n",
       "state                       object\n",
       "signs_of_mental_illness       bool\n",
       "threat_level                object\n",
       "flee                        object\n",
       "body_camera                   bool\n",
       "longitude                  float64\n",
       "latitude                   float64\n",
       "is_geocoding_exact            bool\n",
       "state_name                  object\n",
       "state_abbr                  object\n",
       "dtype: object"
      ]
     },
     "execution_count": 16,
     "metadata": {},
     "output_type": "execute_result"
    }
   ],
   "source": [
    "shooting_data.dtypes"
   ]
  },
  {
   "cell_type": "code",
   "execution_count": 17,
   "id": "45cc405e",
   "metadata": {},
   "outputs": [
    {
     "name": "stdout",
     "output_type": "stream",
     "text": [
      "<class 'pandas.core.frame.DataFrame'>\n",
      "Int64Index: 8002 entries, 0 to 8001\n",
      "Data columns (total 19 columns):\n",
      " #   Column                   Non-Null Count  Dtype  \n",
      "---  ------                   --------------  -----  \n",
      " 0   id                       8002 non-null   int64  \n",
      " 1   name                     7548 non-null   object \n",
      " 2   date                     8002 non-null   object \n",
      " 3   manner_of_death          8002 non-null   object \n",
      " 4   armed                    7791 non-null   object \n",
      " 5   age                      7499 non-null   float64\n",
      " 6   gender                   7971 non-null   object \n",
      " 7   race                     6485 non-null   object \n",
      " 8   city                     8002 non-null   object \n",
      " 9   state                    8002 non-null   object \n",
      " 10  signs_of_mental_illness  8002 non-null   bool   \n",
      " 11  threat_level             8002 non-null   object \n",
      " 12  flee                     7036 non-null   object \n",
      " 13  body_camera              8002 non-null   bool   \n",
      " 14  longitude                7162 non-null   float64\n",
      " 15  latitude                 7162 non-null   float64\n",
      " 16  is_geocoding_exact       8002 non-null   bool   \n",
      " 17  state_name               7978 non-null   object \n",
      " 18  state_abbr               7978 non-null   object \n",
      "dtypes: bool(3), float64(3), int64(1), object(12)\n",
      "memory usage: 1.1+ MB\n"
     ]
    }
   ],
   "source": [
    "shooting_data.info()"
   ]
  },
  {
   "cell_type": "code",
   "execution_count": null,
   "id": "4c1ace8e",
   "metadata": {},
   "outputs": [],
   "source": []
  },
  {
   "cell_type": "markdown",
   "id": "65dcdcd5",
   "metadata": {},
   "source": [
    "#### Checking for null values"
   ]
  },
  {
   "cell_type": "code",
   "execution_count": 18,
   "id": "d2c74c10",
   "metadata": {},
   "outputs": [
    {
     "data": {
      "text/plain": [
       "id                            0\n",
       "name                        454\n",
       "date                          0\n",
       "manner_of_death               0\n",
       "armed                       211\n",
       "age                         503\n",
       "gender                       31\n",
       "race                       1517\n",
       "city                          0\n",
       "state                         0\n",
       "signs_of_mental_illness       0\n",
       "threat_level                  0\n",
       "flee                        966\n",
       "body_camera                   0\n",
       "longitude                   840\n",
       "latitude                    840\n",
       "is_geocoding_exact            0\n",
       "state_name                   24\n",
       "state_abbr                   24\n",
       "dtype: int64"
      ]
     },
     "execution_count": 18,
     "metadata": {},
     "output_type": "execute_result"
    }
   ],
   "source": [
    "shooting_data.isnull().sum()"
   ]
  },
  {
   "cell_type": "code",
   "execution_count": null,
   "id": "d0f7ced4",
   "metadata": {},
   "outputs": [],
   "source": []
  },
  {
   "cell_type": "markdown",
   "id": "198cb9bc",
   "metadata": {},
   "source": [
    "### Dataset Observations"
   ]
  },
  {
   "cell_type": "markdown",
   "id": "51540480",
   "metadata": {},
   "source": [
    "##### id,name, is_geocoding_exact, state_abbr and  state column wont be useful for our analysis: drop them\n",
    "##### rename state_name to state\n",
    "##### date is in object datatype: convert to date format\n",
    "##### armed contains null values: replace null values with a placeholder text value\n",
    "##### age contains null values: replace null values with placeholder integer value\n",
    "##### age is a float, convert to int datatype\n",
    "##### gender is an object: convert to categorical\n",
    "##### gender contains null values: replace null values with placeholder text\n",
    "##### race contains null values: replace nulls with placeholder text\n",
    "##### flee contains null values: replace nulls with placeholder text\n",
    "##### longitude and latitude has some missing values: replace missing values with 0's"
   ]
  },
  {
   "cell_type": "code",
   "execution_count": null,
   "id": "1bc6286d",
   "metadata": {},
   "outputs": [],
   "source": []
  },
  {
   "cell_type": "markdown",
   "id": "17ab4414",
   "metadata": {},
   "source": [
    "#### Data Wrangling"
   ]
  },
  {
   "cell_type": "code",
   "execution_count": 19,
   "id": "f4ac516d",
   "metadata": {},
   "outputs": [],
   "source": [
    "shooting_data_clean = shooting_data.copy()"
   ]
  },
  {
   "cell_type": "code",
   "execution_count": null,
   "id": "d16a329c",
   "metadata": {},
   "outputs": [],
   "source": []
  },
  {
   "cell_type": "markdown",
   "id": "1f1c690c",
   "metadata": {},
   "source": [
    "##### id,name, is_geocoding_exact and state column wont be useful for our analysis: drop them\n"
   ]
  },
  {
   "cell_type": "markdown",
   "id": "a88e7f53",
   "metadata": {},
   "source": [
    "### Define: \n",
    "#### use dataframe.drop to remove unuseful columns"
   ]
  },
  {
   "cell_type": "markdown",
   "id": "76190c0a",
   "metadata": {},
   "source": [
    "### Code"
   ]
  },
  {
   "cell_type": "code",
   "execution_count": 20,
   "id": "1e3fd016",
   "metadata": {},
   "outputs": [],
   "source": [
    "shooting_data_clean.drop(['id', 'name', 'is_geocoding_exact', 'state', 'state_abbr'], axis=1, inplace=True)"
   ]
  },
  {
   "cell_type": "markdown",
   "id": "ab72a23c",
   "metadata": {},
   "source": [
    "### Test"
   ]
  },
  {
   "cell_type": "code",
   "execution_count": 21,
   "id": "9bab645d",
   "metadata": {},
   "outputs": [
    {
     "name": "stdout",
     "output_type": "stream",
     "text": [
      "<class 'pandas.core.frame.DataFrame'>\n",
      "Int64Index: 8002 entries, 0 to 8001\n",
      "Data columns (total 14 columns):\n",
      " #   Column                   Non-Null Count  Dtype  \n",
      "---  ------                   --------------  -----  \n",
      " 0   date                     8002 non-null   object \n",
      " 1   manner_of_death          8002 non-null   object \n",
      " 2   armed                    7791 non-null   object \n",
      " 3   age                      7499 non-null   float64\n",
      " 4   gender                   7971 non-null   object \n",
      " 5   race                     6485 non-null   object \n",
      " 6   city                     8002 non-null   object \n",
      " 7   signs_of_mental_illness  8002 non-null   bool   \n",
      " 8   threat_level             8002 non-null   object \n",
      " 9   flee                     7036 non-null   object \n",
      " 10  body_camera              8002 non-null   bool   \n",
      " 11  longitude                7162 non-null   float64\n",
      " 12  latitude                 7162 non-null   float64\n",
      " 13  state_name               7978 non-null   object \n",
      "dtypes: bool(2), float64(3), object(9)\n",
      "memory usage: 828.3+ KB\n"
     ]
    }
   ],
   "source": [
    "\n",
    "shooting_data_clean.info()"
   ]
  },
  {
   "cell_type": "code",
   "execution_count": null,
   "id": "48b51862",
   "metadata": {},
   "outputs": [],
   "source": []
  },
  {
   "cell_type": "markdown",
   "id": "aee13bd2",
   "metadata": {},
   "source": [
    "##### rename state_name to state"
   ]
  },
  {
   "cell_type": "markdown",
   "id": "e36d2b19",
   "metadata": {},
   "source": [
    "### Define"
   ]
  },
  {
   "cell_type": "markdown",
   "id": "eb243f68",
   "metadata": {},
   "source": [
    "#### Change the column name using the rename method"
   ]
  },
  {
   "cell_type": "code",
   "execution_count": null,
   "id": "812eaf29",
   "metadata": {},
   "outputs": [],
   "source": []
  },
  {
   "cell_type": "markdown",
   "id": "e040e778",
   "metadata": {},
   "source": [
    "### Code"
   ]
  },
  {
   "cell_type": "code",
   "execution_count": 22,
   "id": "69a487d7",
   "metadata": {},
   "outputs": [],
   "source": [
    "shooting_data_clean.rename(columns={'state_name': 'state'}, inplace=True)"
   ]
  },
  {
   "cell_type": "code",
   "execution_count": null,
   "id": "1dbf4a08",
   "metadata": {},
   "outputs": [],
   "source": []
  },
  {
   "cell_type": "markdown",
   "id": "7fd99107",
   "metadata": {},
   "source": [
    "### Test"
   ]
  },
  {
   "cell_type": "code",
   "execution_count": 23,
   "id": "adce4845",
   "metadata": {},
   "outputs": [
    {
     "data": {
      "text/html": [
       "<div>\n",
       "<style scoped>\n",
       "    .dataframe tbody tr th:only-of-type {\n",
       "        vertical-align: middle;\n",
       "    }\n",
       "\n",
       "    .dataframe tbody tr th {\n",
       "        vertical-align: top;\n",
       "    }\n",
       "\n",
       "    .dataframe thead th {\n",
       "        text-align: right;\n",
       "    }\n",
       "</style>\n",
       "<table border=\"1\" class=\"dataframe\">\n",
       "  <thead>\n",
       "    <tr style=\"text-align: right;\">\n",
       "      <th></th>\n",
       "      <th>date</th>\n",
       "      <th>manner_of_death</th>\n",
       "      <th>armed</th>\n",
       "      <th>age</th>\n",
       "      <th>gender</th>\n",
       "      <th>race</th>\n",
       "      <th>city</th>\n",
       "      <th>signs_of_mental_illness</th>\n",
       "      <th>threat_level</th>\n",
       "      <th>flee</th>\n",
       "      <th>body_camera</th>\n",
       "      <th>longitude</th>\n",
       "      <th>latitude</th>\n",
       "      <th>state</th>\n",
       "    </tr>\n",
       "  </thead>\n",
       "  <tbody>\n",
       "    <tr>\n",
       "      <th>0</th>\n",
       "      <td>2015-01-02</td>\n",
       "      <td>shot</td>\n",
       "      <td>gun</td>\n",
       "      <td>53.0</td>\n",
       "      <td>M</td>\n",
       "      <td>A</td>\n",
       "      <td>Shelton</td>\n",
       "      <td>True</td>\n",
       "      <td>attack</td>\n",
       "      <td>Not fleeing</td>\n",
       "      <td>False</td>\n",
       "      <td>-123.122</td>\n",
       "      <td>47.247</td>\n",
       "      <td>Washington</td>\n",
       "    </tr>\n",
       "    <tr>\n",
       "      <th>1</th>\n",
       "      <td>2015-01-02</td>\n",
       "      <td>shot</td>\n",
       "      <td>gun</td>\n",
       "      <td>47.0</td>\n",
       "      <td>M</td>\n",
       "      <td>W</td>\n",
       "      <td>Aloha</td>\n",
       "      <td>False</td>\n",
       "      <td>attack</td>\n",
       "      <td>Not fleeing</td>\n",
       "      <td>False</td>\n",
       "      <td>-122.892</td>\n",
       "      <td>45.487</td>\n",
       "      <td>Oregon</td>\n",
       "    </tr>\n",
       "    <tr>\n",
       "      <th>2</th>\n",
       "      <td>2015-01-03</td>\n",
       "      <td>shot and Tasered</td>\n",
       "      <td>unarmed</td>\n",
       "      <td>23.0</td>\n",
       "      <td>M</td>\n",
       "      <td>H</td>\n",
       "      <td>Wichita</td>\n",
       "      <td>False</td>\n",
       "      <td>other</td>\n",
       "      <td>Not fleeing</td>\n",
       "      <td>False</td>\n",
       "      <td>-97.281</td>\n",
       "      <td>37.695</td>\n",
       "      <td>Kansas</td>\n",
       "    </tr>\n",
       "  </tbody>\n",
       "</table>\n",
       "</div>"
      ],
      "text/plain": [
       "         date   manner_of_death    armed   age gender race     city  \\\n",
       "0  2015-01-02              shot      gun  53.0      M    A  Shelton   \n",
       "1  2015-01-02              shot      gun  47.0      M    W    Aloha   \n",
       "2  2015-01-03  shot and Tasered  unarmed  23.0      M    H  Wichita   \n",
       "\n",
       "   signs_of_mental_illness threat_level         flee  body_camera  longitude  \\\n",
       "0                     True       attack  Not fleeing        False   -123.122   \n",
       "1                    False       attack  Not fleeing        False   -122.892   \n",
       "2                    False        other  Not fleeing        False    -97.281   \n",
       "\n",
       "   latitude       state  \n",
       "0    47.247  Washington  \n",
       "1    45.487      Oregon  \n",
       "2    37.695      Kansas  "
      ]
     },
     "execution_count": 23,
     "metadata": {},
     "output_type": "execute_result"
    }
   ],
   "source": [
    "shooting_data_clean.head(3)"
   ]
  },
  {
   "cell_type": "code",
   "execution_count": null,
   "id": "43571168",
   "metadata": {},
   "outputs": [],
   "source": []
  },
  {
   "cell_type": "markdown",
   "id": "39be0739",
   "metadata": {},
   "source": [
    "##### date is in object datatype: convert to date format\n"
   ]
  },
  {
   "cell_type": "markdown",
   "id": "961cab7f",
   "metadata": {},
   "source": [
    "### Define"
   ]
  },
  {
   "cell_type": "markdown",
   "id": "72964149",
   "metadata": {},
   "source": [
    "#### use pd.to_datetime to convert to date format"
   ]
  },
  {
   "cell_type": "markdown",
   "id": "27ba63dc",
   "metadata": {},
   "source": [
    "### Code"
   ]
  },
  {
   "cell_type": "code",
   "execution_count": 24,
   "id": "cac8b793",
   "metadata": {},
   "outputs": [
    {
     "data": {
      "text/plain": [
       "dtype('O')"
      ]
     },
     "execution_count": 24,
     "metadata": {},
     "output_type": "execute_result"
    }
   ],
   "source": [
    "shooting_data_clean.date.dtype"
   ]
  },
  {
   "cell_type": "code",
   "execution_count": 25,
   "id": "f099f952",
   "metadata": {},
   "outputs": [],
   "source": [
    "shooting_data_clean['date'] = pd.to_datetime(shooting_data_clean.date)"
   ]
  },
  {
   "cell_type": "markdown",
   "id": "fbde2a2b",
   "metadata": {},
   "source": [
    "### Test"
   ]
  },
  {
   "cell_type": "code",
   "execution_count": 26,
   "id": "583f9e5e",
   "metadata": {},
   "outputs": [
    {
     "name": "stdout",
     "output_type": "stream",
     "text": [
      "<class 'pandas.core.series.Series'>\n",
      "Int64Index: 8002 entries, 0 to 8001\n",
      "Series name: date\n",
      "Non-Null Count  Dtype         \n",
      "--------------  -----         \n",
      "8002 non-null   datetime64[ns]\n",
      "dtypes: datetime64[ns](1)\n",
      "memory usage: 125.0 KB\n"
     ]
    }
   ],
   "source": [
    "shooting_data_clean.date.info()"
   ]
  },
  {
   "cell_type": "code",
   "execution_count": null,
   "id": "b2bb6b76",
   "metadata": {},
   "outputs": [],
   "source": []
  },
  {
   "cell_type": "markdown",
   "id": "bc58da59",
   "metadata": {},
   "source": [
    "##### armed contains null values: replace null values with a placeholder text value\n"
   ]
  },
  {
   "cell_type": "markdown",
   "id": "050443e1",
   "metadata": {},
   "source": [
    "### Define"
   ]
  },
  {
   "cell_type": "markdown",
   "id": "d4f8613d",
   "metadata": {},
   "source": [
    "#### Use the fillna method to replace null values"
   ]
  },
  {
   "cell_type": "markdown",
   "id": "e9dfa599",
   "metadata": {},
   "source": [
    "### Code"
   ]
  },
  {
   "cell_type": "code",
   "execution_count": 27,
   "id": "7486a5ad",
   "metadata": {},
   "outputs": [
    {
     "data": {
      "text/html": [
       "<div>\n",
       "<style scoped>\n",
       "    .dataframe tbody tr th:only-of-type {\n",
       "        vertical-align: middle;\n",
       "    }\n",
       "\n",
       "    .dataframe tbody tr th {\n",
       "        vertical-align: top;\n",
       "    }\n",
       "\n",
       "    .dataframe thead th {\n",
       "        text-align: right;\n",
       "    }\n",
       "</style>\n",
       "<table border=\"1\" class=\"dataframe\">\n",
       "  <thead>\n",
       "    <tr style=\"text-align: right;\">\n",
       "      <th></th>\n",
       "      <th>date</th>\n",
       "      <th>manner_of_death</th>\n",
       "      <th>armed</th>\n",
       "      <th>age</th>\n",
       "      <th>gender</th>\n",
       "      <th>race</th>\n",
       "      <th>city</th>\n",
       "      <th>signs_of_mental_illness</th>\n",
       "      <th>threat_level</th>\n",
       "      <th>flee</th>\n",
       "      <th>body_camera</th>\n",
       "      <th>longitude</th>\n",
       "      <th>latitude</th>\n",
       "      <th>state</th>\n",
       "    </tr>\n",
       "  </thead>\n",
       "  <tbody>\n",
       "    <tr>\n",
       "      <th>15</th>\n",
       "      <td>2015-01-08</td>\n",
       "      <td>shot</td>\n",
       "      <td>NaN</td>\n",
       "      <td>28.0</td>\n",
       "      <td>M</td>\n",
       "      <td>W</td>\n",
       "      <td>Huntley</td>\n",
       "      <td>False</td>\n",
       "      <td>undetermined</td>\n",
       "      <td>Not fleeing</td>\n",
       "      <td>False</td>\n",
       "      <td>-108.315</td>\n",
       "      <td>45.859</td>\n",
       "      <td>Montana</td>\n",
       "    </tr>\n",
       "    <tr>\n",
       "      <th>26</th>\n",
       "      <td>2015-01-14</td>\n",
       "      <td>shot</td>\n",
       "      <td>NaN</td>\n",
       "      <td>24.0</td>\n",
       "      <td>M</td>\n",
       "      <td>B</td>\n",
       "      <td>St. Paul</td>\n",
       "      <td>False</td>\n",
       "      <td>attack</td>\n",
       "      <td>Not fleeing</td>\n",
       "      <td>False</td>\n",
       "      <td>-93.094</td>\n",
       "      <td>44.958</td>\n",
       "      <td>Minnesota</td>\n",
       "    </tr>\n",
       "    <tr>\n",
       "      <th>27</th>\n",
       "      <td>2015-01-14</td>\n",
       "      <td>shot</td>\n",
       "      <td>NaN</td>\n",
       "      <td>29.0</td>\n",
       "      <td>M</td>\n",
       "      <td>W</td>\n",
       "      <td>Franklin County</td>\n",
       "      <td>False</td>\n",
       "      <td>attack</td>\n",
       "      <td>Not fleeing</td>\n",
       "      <td>False</td>\n",
       "      <td>-90.794</td>\n",
       "      <td>38.317</td>\n",
       "      <td>Missouri</td>\n",
       "    </tr>\n",
       "    <tr>\n",
       "      <th>45</th>\n",
       "      <td>2015-01-20</td>\n",
       "      <td>shot</td>\n",
       "      <td>NaN</td>\n",
       "      <td>42.0</td>\n",
       "      <td>M</td>\n",
       "      <td>B</td>\n",
       "      <td>Scottsdale</td>\n",
       "      <td>False</td>\n",
       "      <td>other</td>\n",
       "      <td>Car</td>\n",
       "      <td>False</td>\n",
       "      <td>-111.909</td>\n",
       "      <td>33.509</td>\n",
       "      <td>Arizona</td>\n",
       "    </tr>\n",
       "    <tr>\n",
       "      <th>52</th>\n",
       "      <td>2015-01-23</td>\n",
       "      <td>shot</td>\n",
       "      <td>NaN</td>\n",
       "      <td>29.0</td>\n",
       "      <td>M</td>\n",
       "      <td>B</td>\n",
       "      <td>Fort Lauderdale</td>\n",
       "      <td>False</td>\n",
       "      <td>other</td>\n",
       "      <td>Not fleeing</td>\n",
       "      <td>False</td>\n",
       "      <td>-80.212</td>\n",
       "      <td>26.150</td>\n",
       "      <td>Florida</td>\n",
       "    </tr>\n",
       "  </tbody>\n",
       "</table>\n",
       "</div>"
      ],
      "text/plain": [
       "         date manner_of_death armed   age gender race             city  \\\n",
       "15 2015-01-08            shot   NaN  28.0      M    W          Huntley   \n",
       "26 2015-01-14            shot   NaN  24.0      M    B         St. Paul   \n",
       "27 2015-01-14            shot   NaN  29.0      M    W  Franklin County   \n",
       "45 2015-01-20            shot   NaN  42.0      M    B       Scottsdale   \n",
       "52 2015-01-23            shot   NaN  29.0      M    B  Fort Lauderdale   \n",
       "\n",
       "    signs_of_mental_illness  threat_level         flee  body_camera  \\\n",
       "15                    False  undetermined  Not fleeing        False   \n",
       "26                    False        attack  Not fleeing        False   \n",
       "27                    False        attack  Not fleeing        False   \n",
       "45                    False         other          Car        False   \n",
       "52                    False         other  Not fleeing        False   \n",
       "\n",
       "    longitude  latitude      state  \n",
       "15   -108.315    45.859    Montana  \n",
       "26    -93.094    44.958  Minnesota  \n",
       "27    -90.794    38.317   Missouri  \n",
       "45   -111.909    33.509    Arizona  \n",
       "52    -80.212    26.150    Florida  "
      ]
     },
     "execution_count": 27,
     "metadata": {},
     "output_type": "execute_result"
    }
   ],
   "source": [
    "shooting_data_clean[shooting_data_clean.armed.isnull()].head()"
   ]
  },
  {
   "cell_type": "code",
   "execution_count": 28,
   "id": "5cacd6fb",
   "metadata": {},
   "outputs": [],
   "source": [
    "shooting_data_clean.armed.fillna('Unknown', inplace=True)"
   ]
  },
  {
   "cell_type": "markdown",
   "id": "abbf3c57",
   "metadata": {},
   "source": [
    "### Test"
   ]
  },
  {
   "cell_type": "code",
   "execution_count": 29,
   "id": "6e05d5eb",
   "metadata": {},
   "outputs": [
    {
     "data": {
      "text/html": [
       "<div>\n",
       "<style scoped>\n",
       "    .dataframe tbody tr th:only-of-type {\n",
       "        vertical-align: middle;\n",
       "    }\n",
       "\n",
       "    .dataframe tbody tr th {\n",
       "        vertical-align: top;\n",
       "    }\n",
       "\n",
       "    .dataframe thead th {\n",
       "        text-align: right;\n",
       "    }\n",
       "</style>\n",
       "<table border=\"1\" class=\"dataframe\">\n",
       "  <thead>\n",
       "    <tr style=\"text-align: right;\">\n",
       "      <th></th>\n",
       "      <th>date</th>\n",
       "      <th>manner_of_death</th>\n",
       "      <th>armed</th>\n",
       "      <th>age</th>\n",
       "      <th>gender</th>\n",
       "      <th>race</th>\n",
       "      <th>city</th>\n",
       "      <th>signs_of_mental_illness</th>\n",
       "      <th>threat_level</th>\n",
       "      <th>flee</th>\n",
       "      <th>body_camera</th>\n",
       "      <th>longitude</th>\n",
       "      <th>latitude</th>\n",
       "      <th>state</th>\n",
       "    </tr>\n",
       "  </thead>\n",
       "  <tbody>\n",
       "  </tbody>\n",
       "</table>\n",
       "</div>"
      ],
      "text/plain": [
       "Empty DataFrame\n",
       "Columns: [date, manner_of_death, armed, age, gender, race, city, signs_of_mental_illness, threat_level, flee, body_camera, longitude, latitude, state]\n",
       "Index: []"
      ]
     },
     "execution_count": 29,
     "metadata": {},
     "output_type": "execute_result"
    }
   ],
   "source": [
    "shooting_data_clean[shooting_data_clean.armed.isnull()].head()"
   ]
  },
  {
   "cell_type": "code",
   "execution_count": null,
   "id": "21d44e26",
   "metadata": {},
   "outputs": [],
   "source": []
  },
  {
   "cell_type": "markdown",
   "id": "d5888cf1",
   "metadata": {},
   "source": [
    "##### age contains null values: replace null values with placeholder integer value\n"
   ]
  },
  {
   "cell_type": "markdown",
   "id": "63d58509",
   "metadata": {},
   "source": [
    "### Define"
   ]
  },
  {
   "cell_type": "markdown",
   "id": "3d2aa394",
   "metadata": {},
   "source": [
    "#### Use fillna to replace null values"
   ]
  },
  {
   "cell_type": "markdown",
   "id": "5cd3eb5f",
   "metadata": {},
   "source": [
    "### Code"
   ]
  },
  {
   "cell_type": "code",
   "execution_count": 30,
   "id": "becd577f",
   "metadata": {},
   "outputs": [
    {
     "data": {
      "text/html": [
       "<div>\n",
       "<style scoped>\n",
       "    .dataframe tbody tr th:only-of-type {\n",
       "        vertical-align: middle;\n",
       "    }\n",
       "\n",
       "    .dataframe tbody tr th {\n",
       "        vertical-align: top;\n",
       "    }\n",
       "\n",
       "    .dataframe thead th {\n",
       "        text-align: right;\n",
       "    }\n",
       "</style>\n",
       "<table border=\"1\" class=\"dataframe\">\n",
       "  <thead>\n",
       "    <tr style=\"text-align: right;\">\n",
       "      <th></th>\n",
       "      <th>date</th>\n",
       "      <th>manner_of_death</th>\n",
       "      <th>armed</th>\n",
       "      <th>age</th>\n",
       "      <th>gender</th>\n",
       "      <th>race</th>\n",
       "      <th>city</th>\n",
       "      <th>signs_of_mental_illness</th>\n",
       "      <th>threat_level</th>\n",
       "      <th>flee</th>\n",
       "      <th>body_camera</th>\n",
       "      <th>longitude</th>\n",
       "      <th>latitude</th>\n",
       "      <th>state</th>\n",
       "    </tr>\n",
       "  </thead>\n",
       "  <tbody>\n",
       "    <tr>\n",
       "      <th>127</th>\n",
       "      <td>2015-02-20</td>\n",
       "      <td>shot</td>\n",
       "      <td>gun</td>\n",
       "      <td>NaN</td>\n",
       "      <td>M</td>\n",
       "      <td>H</td>\n",
       "      <td>Houston</td>\n",
       "      <td>False</td>\n",
       "      <td>attack</td>\n",
       "      <td>Car</td>\n",
       "      <td>False</td>\n",
       "      <td>-95.401</td>\n",
       "      <td>29.983</td>\n",
       "      <td>Texas</td>\n",
       "    </tr>\n",
       "    <tr>\n",
       "      <th>769</th>\n",
       "      <td>2015-10-12</td>\n",
       "      <td>shot</td>\n",
       "      <td>gun</td>\n",
       "      <td>NaN</td>\n",
       "      <td>M</td>\n",
       "      <td>B</td>\n",
       "      <td>Lawton</td>\n",
       "      <td>False</td>\n",
       "      <td>attack</td>\n",
       "      <td>Not fleeing</td>\n",
       "      <td>False</td>\n",
       "      <td>-98.422</td>\n",
       "      <td>34.599</td>\n",
       "      <td>Oklahoma</td>\n",
       "    </tr>\n",
       "    <tr>\n",
       "      <th>809</th>\n",
       "      <td>2015-10-24</td>\n",
       "      <td>shot</td>\n",
       "      <td>gun</td>\n",
       "      <td>NaN</td>\n",
       "      <td>M</td>\n",
       "      <td>NaN</td>\n",
       "      <td>New Paltz</td>\n",
       "      <td>False</td>\n",
       "      <td>attack</td>\n",
       "      <td>Not fleeing</td>\n",
       "      <td>False</td>\n",
       "      <td>-74.080</td>\n",
       "      <td>41.747</td>\n",
       "      <td>New York</td>\n",
       "    </tr>\n",
       "    <tr>\n",
       "      <th>819</th>\n",
       "      <td>2015-10-29</td>\n",
       "      <td>shot</td>\n",
       "      <td>gun</td>\n",
       "      <td>NaN</td>\n",
       "      <td>M</td>\n",
       "      <td>B</td>\n",
       "      <td>Columbus</td>\n",
       "      <td>False</td>\n",
       "      <td>other</td>\n",
       "      <td>Not fleeing</td>\n",
       "      <td>False</td>\n",
       "      <td>-82.863</td>\n",
       "      <td>39.922</td>\n",
       "      <td>Ohio</td>\n",
       "    </tr>\n",
       "    <tr>\n",
       "      <th>932</th>\n",
       "      <td>2015-12-10</td>\n",
       "      <td>shot</td>\n",
       "      <td>gun</td>\n",
       "      <td>NaN</td>\n",
       "      <td>M</td>\n",
       "      <td>NaN</td>\n",
       "      <td>Hemet</td>\n",
       "      <td>False</td>\n",
       "      <td>attack</td>\n",
       "      <td>Not fleeing</td>\n",
       "      <td>False</td>\n",
       "      <td>-116.971</td>\n",
       "      <td>33.729</td>\n",
       "      <td>California</td>\n",
       "    </tr>\n",
       "  </tbody>\n",
       "</table>\n",
       "</div>"
      ],
      "text/plain": [
       "          date manner_of_death armed  age gender race       city  \\\n",
       "127 2015-02-20            shot   gun  NaN      M    H    Houston   \n",
       "769 2015-10-12            shot   gun  NaN      M    B     Lawton   \n",
       "809 2015-10-24            shot   gun  NaN      M  NaN  New Paltz   \n",
       "819 2015-10-29            shot   gun  NaN      M    B   Columbus   \n",
       "932 2015-12-10            shot   gun  NaN      M  NaN      Hemet   \n",
       "\n",
       "     signs_of_mental_illness threat_level         flee  body_camera  \\\n",
       "127                    False       attack          Car        False   \n",
       "769                    False       attack  Not fleeing        False   \n",
       "809                    False       attack  Not fleeing        False   \n",
       "819                    False        other  Not fleeing        False   \n",
       "932                    False       attack  Not fleeing        False   \n",
       "\n",
       "     longitude  latitude       state  \n",
       "127    -95.401    29.983       Texas  \n",
       "769    -98.422    34.599    Oklahoma  \n",
       "809    -74.080    41.747    New York  \n",
       "819    -82.863    39.922        Ohio  \n",
       "932   -116.971    33.729  California  "
      ]
     },
     "execution_count": 30,
     "metadata": {},
     "output_type": "execute_result"
    }
   ],
   "source": [
    "shooting_data_clean[shooting_data_clean.age.isnull()].head()"
   ]
  },
  {
   "cell_type": "code",
   "execution_count": 31,
   "id": "10f03d1f",
   "metadata": {},
   "outputs": [],
   "source": [
    "shooting_data_clean.age.fillna(0, inplace=True)"
   ]
  },
  {
   "cell_type": "code",
   "execution_count": null,
   "id": "c14f79ca",
   "metadata": {},
   "outputs": [],
   "source": []
  },
  {
   "cell_type": "markdown",
   "id": "1eb81d25",
   "metadata": {},
   "source": [
    "### Test"
   ]
  },
  {
   "cell_type": "code",
   "execution_count": 32,
   "id": "23c6c792",
   "metadata": {},
   "outputs": [
    {
     "data": {
      "text/html": [
       "<div>\n",
       "<style scoped>\n",
       "    .dataframe tbody tr th:only-of-type {\n",
       "        vertical-align: middle;\n",
       "    }\n",
       "\n",
       "    .dataframe tbody tr th {\n",
       "        vertical-align: top;\n",
       "    }\n",
       "\n",
       "    .dataframe thead th {\n",
       "        text-align: right;\n",
       "    }\n",
       "</style>\n",
       "<table border=\"1\" class=\"dataframe\">\n",
       "  <thead>\n",
       "    <tr style=\"text-align: right;\">\n",
       "      <th></th>\n",
       "      <th>date</th>\n",
       "      <th>manner_of_death</th>\n",
       "      <th>armed</th>\n",
       "      <th>age</th>\n",
       "      <th>gender</th>\n",
       "      <th>race</th>\n",
       "      <th>city</th>\n",
       "      <th>signs_of_mental_illness</th>\n",
       "      <th>threat_level</th>\n",
       "      <th>flee</th>\n",
       "      <th>body_camera</th>\n",
       "      <th>longitude</th>\n",
       "      <th>latitude</th>\n",
       "      <th>state</th>\n",
       "    </tr>\n",
       "  </thead>\n",
       "  <tbody>\n",
       "  </tbody>\n",
       "</table>\n",
       "</div>"
      ],
      "text/plain": [
       "Empty DataFrame\n",
       "Columns: [date, manner_of_death, armed, age, gender, race, city, signs_of_mental_illness, threat_level, flee, body_camera, longitude, latitude, state]\n",
       "Index: []"
      ]
     },
     "execution_count": 32,
     "metadata": {},
     "output_type": "execute_result"
    }
   ],
   "source": [
    "shooting_data_clean[shooting_data_clean.age.isnull()].head()"
   ]
  },
  {
   "cell_type": "code",
   "execution_count": null,
   "id": "b97bd9f2",
   "metadata": {},
   "outputs": [],
   "source": []
  },
  {
   "cell_type": "code",
   "execution_count": null,
   "id": "d65ca5f8",
   "metadata": {},
   "outputs": [],
   "source": []
  },
  {
   "cell_type": "code",
   "execution_count": null,
   "id": "8cfaa2ca",
   "metadata": {},
   "outputs": [],
   "source": []
  },
  {
   "cell_type": "markdown",
   "id": "e8d36783",
   "metadata": {},
   "source": [
    "##### age is a float: convert to int datatype \n"
   ]
  },
  {
   "cell_type": "markdown",
   "id": "46b0772a",
   "metadata": {},
   "source": [
    "### Define"
   ]
  },
  {
   "cell_type": "markdown",
   "id": "5f7a742b",
   "metadata": {},
   "source": [
    "#### Convert values to int using the astype method"
   ]
  },
  {
   "cell_type": "markdown",
   "id": "5f73a20b",
   "metadata": {},
   "source": [
    "### Code"
   ]
  },
  {
   "cell_type": "code",
   "execution_count": null,
   "id": "4c679bf2",
   "metadata": {},
   "outputs": [],
   "source": []
  },
  {
   "cell_type": "code",
   "execution_count": 33,
   "id": "60a2cbbc",
   "metadata": {},
   "outputs": [],
   "source": [
    "shooting_data_clean['age'] = shooting_data_clean.age.astype(int)"
   ]
  },
  {
   "cell_type": "markdown",
   "id": "8e4e7240",
   "metadata": {},
   "source": [
    "### Test"
   ]
  },
  {
   "cell_type": "code",
   "execution_count": 34,
   "id": "9606250b",
   "metadata": {},
   "outputs": [
    {
     "data": {
      "text/plain": [
       "dtype('int32')"
      ]
     },
     "execution_count": 34,
     "metadata": {},
     "output_type": "execute_result"
    }
   ],
   "source": [
    "shooting_data_clean.age.dtype"
   ]
  },
  {
   "cell_type": "code",
   "execution_count": null,
   "id": "49e3a283",
   "metadata": {},
   "outputs": [],
   "source": []
  },
  {
   "cell_type": "code",
   "execution_count": null,
   "id": "6213f212",
   "metadata": {},
   "outputs": [],
   "source": []
  },
  {
   "cell_type": "code",
   "execution_count": 35,
   "id": "e7d474b2",
   "metadata": {},
   "outputs": [],
   "source": [
    "shooting_data_clean['gender'] = shooting_data_clean.gender.map({'M':'Male', 'F':'Female'})"
   ]
  },
  {
   "cell_type": "code",
   "execution_count": 36,
   "id": "51d2d8af",
   "metadata": {},
   "outputs": [
    {
     "data": {
      "text/plain": [
       "{'Female', 'Male', nan}"
      ]
     },
     "execution_count": 36,
     "metadata": {},
     "output_type": "execute_result"
    }
   ],
   "source": [
    "set(shooting_data_clean.gender.values)"
   ]
  },
  {
   "cell_type": "code",
   "execution_count": null,
   "id": "ac00f49a",
   "metadata": {},
   "outputs": [],
   "source": []
  },
  {
   "cell_type": "code",
   "execution_count": null,
   "id": "74640e07",
   "metadata": {},
   "outputs": [],
   "source": []
  },
  {
   "cell_type": "markdown",
   "id": "0fd8fd9b",
   "metadata": {},
   "source": [
    "##### gender contains null values: replace null values with placeholder text\n"
   ]
  },
  {
   "cell_type": "markdown",
   "id": "c32eb2da",
   "metadata": {},
   "source": [
    "## Define"
   ]
  },
  {
   "cell_type": "markdown",
   "id": "ceaed732",
   "metadata": {},
   "source": [
    "#### Replace null values using the fillna method"
   ]
  },
  {
   "cell_type": "markdown",
   "id": "e45c85ea",
   "metadata": {},
   "source": [
    "### Code"
   ]
  },
  {
   "cell_type": "code",
   "execution_count": 37,
   "id": "8ed2795e",
   "metadata": {},
   "outputs": [],
   "source": [
    "shooting_data_clean['gender'] = shooting_data_clean.gender.fillna('Not Specified')"
   ]
  },
  {
   "cell_type": "markdown",
   "id": "24358e90",
   "metadata": {},
   "source": [
    "### Test"
   ]
  },
  {
   "cell_type": "code",
   "execution_count": 38,
   "id": "6f54ef94",
   "metadata": {},
   "outputs": [
    {
     "data": {
      "text/plain": [
       "Male             7613\n",
       "Female            358\n",
       "Not Specified      31\n",
       "Name: gender, dtype: int64"
      ]
     },
     "execution_count": 38,
     "metadata": {},
     "output_type": "execute_result"
    }
   ],
   "source": [
    "shooting_data_clean.gender.value_counts()"
   ]
  },
  {
   "cell_type": "code",
   "execution_count": null,
   "id": "ff308990",
   "metadata": {},
   "outputs": [],
   "source": []
  },
  {
   "cell_type": "code",
   "execution_count": null,
   "id": "db472863",
   "metadata": {},
   "outputs": [],
   "source": []
  },
  {
   "cell_type": "markdown",
   "id": "e203e4c4",
   "metadata": {},
   "source": [
    "##### gender is an object: convert to categorical\n"
   ]
  },
  {
   "cell_type": "markdown",
   "id": "2569f6b6",
   "metadata": {},
   "source": [
    "### Define"
   ]
  },
  {
   "cell_type": "markdown",
   "id": "0515b0ea",
   "metadata": {},
   "source": [
    "#### convert gender to categorical datatype"
   ]
  },
  {
   "cell_type": "code",
   "execution_count": null,
   "id": "f053def7",
   "metadata": {},
   "outputs": [],
   "source": []
  },
  {
   "cell_type": "markdown",
   "id": "8ebf0d55",
   "metadata": {},
   "source": [
    "### Code"
   ]
  },
  {
   "cell_type": "code",
   "execution_count": 39,
   "id": "9dffbc24",
   "metadata": {},
   "outputs": [],
   "source": [
    "shooting_data_clean['gender'] = shooting_data_clean['gender'].astype('category')"
   ]
  },
  {
   "cell_type": "markdown",
   "id": "a5605fad",
   "metadata": {},
   "source": [
    "### Test"
   ]
  },
  {
   "cell_type": "code",
   "execution_count": 40,
   "id": "00030db7",
   "metadata": {},
   "outputs": [
    {
     "data": {
      "text/plain": [
       "CategoricalDtype(categories=['Female', 'Male', 'Not Specified'], ordered=False)"
      ]
     },
     "execution_count": 40,
     "metadata": {},
     "output_type": "execute_result"
    }
   ],
   "source": [
    "shooting_data_clean.gender.dtype"
   ]
  },
  {
   "cell_type": "code",
   "execution_count": null,
   "id": "8fda8e09",
   "metadata": {},
   "outputs": [],
   "source": []
  },
  {
   "cell_type": "code",
   "execution_count": 41,
   "id": "59897833",
   "metadata": {},
   "outputs": [],
   "source": [
    "shooting_data_clean['race'] = shooting_data_clean.race.map({\n",
    "    'W': 'White', 'B':'Black',\n",
    "    'H': 'Hispanic', 'A':'Asian',\n",
    "    'N': 'Native American','O':'Other'})"
   ]
  },
  {
   "cell_type": "code",
   "execution_count": 42,
   "id": "c04b87e3",
   "metadata": {},
   "outputs": [
    {
     "data": {
      "text/plain": [
       "White              3300\n",
       "Black              1766\n",
       "Hispanic           1166\n",
       "Asian               129\n",
       "Native American     105\n",
       "Other                19\n",
       "Name: race, dtype: int64"
      ]
     },
     "execution_count": 42,
     "metadata": {},
     "output_type": "execute_result"
    }
   ],
   "source": [
    "shooting_data_clean.race.value_counts()"
   ]
  },
  {
   "cell_type": "code",
   "execution_count": null,
   "id": "b7da61a0",
   "metadata": {},
   "outputs": [],
   "source": []
  },
  {
   "cell_type": "markdown",
   "id": "1d8ccad1",
   "metadata": {},
   "source": [
    "##### race contains null values: replace nulls with placeholder text\n"
   ]
  },
  {
   "cell_type": "markdown",
   "id": "61f77502",
   "metadata": {},
   "source": [
    "### Define"
   ]
  },
  {
   "cell_type": "markdown",
   "id": "1e837826",
   "metadata": {},
   "source": [
    "#### Replace null values with placeholder text"
   ]
  },
  {
   "cell_type": "markdown",
   "id": "920e2107",
   "metadata": {},
   "source": [
    "### Code"
   ]
  },
  {
   "cell_type": "code",
   "execution_count": 43,
   "id": "a7292213",
   "metadata": {},
   "outputs": [],
   "source": [
    "shooting_data_clean.race.fillna('Unknown', inplace=True)"
   ]
  },
  {
   "cell_type": "markdown",
   "id": "f5365a8c",
   "metadata": {},
   "source": [
    "### Test"
   ]
  },
  {
   "cell_type": "code",
   "execution_count": 44,
   "id": "22d0a4e6",
   "metadata": {},
   "outputs": [
    {
     "data": {
      "text/plain": [
       "White              3300\n",
       "Black              1766\n",
       "Unknown            1517\n",
       "Hispanic           1166\n",
       "Asian               129\n",
       "Native American     105\n",
       "Other                19\n",
       "Name: race, dtype: int64"
      ]
     },
     "execution_count": 44,
     "metadata": {},
     "output_type": "execute_result"
    }
   ],
   "source": [
    "shooting_data_clean.race.value_counts()"
   ]
  },
  {
   "cell_type": "code",
   "execution_count": null,
   "id": "5d29cb68",
   "metadata": {},
   "outputs": [],
   "source": []
  },
  {
   "cell_type": "markdown",
   "id": "b46121f3",
   "metadata": {},
   "source": [
    "##### flee contains null values: replace nulls with placeholder text\n"
   ]
  },
  {
   "cell_type": "markdown",
   "id": "04a25dca",
   "metadata": {},
   "source": [
    "### Define"
   ]
  },
  {
   "cell_type": "markdown",
   "id": "289a6757",
   "metadata": {},
   "source": [
    "#### Replace null with placeholder text"
   ]
  },
  {
   "cell_type": "markdown",
   "id": "56323610",
   "metadata": {},
   "source": [
    "### Code"
   ]
  },
  {
   "cell_type": "code",
   "execution_count": 45,
   "id": "806bf886",
   "metadata": {},
   "outputs": [],
   "source": [
    "shooting_data_clean.flee.fillna('Not Specified', inplace=True)"
   ]
  },
  {
   "cell_type": "markdown",
   "id": "aa46da01",
   "metadata": {},
   "source": [
    "### Test"
   ]
  },
  {
   "cell_type": "code",
   "execution_count": 46,
   "id": "f2148966",
   "metadata": {},
   "outputs": [
    {
     "data": {
      "text/plain": [
       "Not fleeing      4430\n",
       "Car              1289\n",
       "Foot             1022\n",
       "Not Specified     966\n",
       "Other             295\n",
       "Name: flee, dtype: int64"
      ]
     },
     "execution_count": 46,
     "metadata": {},
     "output_type": "execute_result"
    }
   ],
   "source": [
    "shooting_data_clean.flee.value_counts()"
   ]
  },
  {
   "cell_type": "code",
   "execution_count": null,
   "id": "a0bcdc8a",
   "metadata": {},
   "outputs": [],
   "source": []
  },
  {
   "cell_type": "markdown",
   "id": "b0d99cd4",
   "metadata": {},
   "source": [
    "##### longitude and latitude has some missing values: replace missing values with 0's"
   ]
  },
  {
   "cell_type": "markdown",
   "id": "83b409e9",
   "metadata": {},
   "source": [
    "### Define"
   ]
  },
  {
   "cell_type": "markdown",
   "id": "15aea181",
   "metadata": {},
   "source": [
    "#### Replace null values with 0"
   ]
  },
  {
   "cell_type": "markdown",
   "id": "18243092",
   "metadata": {},
   "source": [
    "### Code"
   ]
  },
  {
   "cell_type": "code",
   "execution_count": 47,
   "id": "c68abb6b",
   "metadata": {},
   "outputs": [],
   "source": [
    "shooting_data_clean['latitude'].fillna(0, inplace=True)"
   ]
  },
  {
   "cell_type": "code",
   "execution_count": 48,
   "id": "8ba8e4e5",
   "metadata": {},
   "outputs": [],
   "source": [
    "shooting_data_clean['longitude'].fillna(0, inplace=True)"
   ]
  },
  {
   "cell_type": "markdown",
   "id": "bc2c6848",
   "metadata": {},
   "source": [
    "### Test"
   ]
  },
  {
   "cell_type": "code",
   "execution_count": 49,
   "id": "97fa1cf3",
   "metadata": {},
   "outputs": [
    {
     "data": {
      "text/html": [
       "<div>\n",
       "<style scoped>\n",
       "    .dataframe tbody tr th:only-of-type {\n",
       "        vertical-align: middle;\n",
       "    }\n",
       "\n",
       "    .dataframe tbody tr th {\n",
       "        vertical-align: top;\n",
       "    }\n",
       "\n",
       "    .dataframe thead th {\n",
       "        text-align: right;\n",
       "    }\n",
       "</style>\n",
       "<table border=\"1\" class=\"dataframe\">\n",
       "  <thead>\n",
       "    <tr style=\"text-align: right;\">\n",
       "      <th></th>\n",
       "      <th>latitude</th>\n",
       "      <th>longitude</th>\n",
       "    </tr>\n",
       "  </thead>\n",
       "  <tbody>\n",
       "    <tr>\n",
       "      <th>0</th>\n",
       "      <td>47.247</td>\n",
       "      <td>-123.122</td>\n",
       "    </tr>\n",
       "    <tr>\n",
       "      <th>1</th>\n",
       "      <td>45.487</td>\n",
       "      <td>-122.892</td>\n",
       "    </tr>\n",
       "    <tr>\n",
       "      <th>2</th>\n",
       "      <td>37.695</td>\n",
       "      <td>-97.281</td>\n",
       "    </tr>\n",
       "    <tr>\n",
       "      <th>3</th>\n",
       "      <td>37.763</td>\n",
       "      <td>-122.422</td>\n",
       "    </tr>\n",
       "    <tr>\n",
       "      <th>4</th>\n",
       "      <td>40.384</td>\n",
       "      <td>-104.692</td>\n",
       "    </tr>\n",
       "  </tbody>\n",
       "</table>\n",
       "</div>"
      ],
      "text/plain": [
       "   latitude  longitude\n",
       "0    47.247   -123.122\n",
       "1    45.487   -122.892\n",
       "2    37.695    -97.281\n",
       "3    37.763   -122.422\n",
       "4    40.384   -104.692"
      ]
     },
     "execution_count": 49,
     "metadata": {},
     "output_type": "execute_result"
    }
   ],
   "source": [
    "shooting_data_clean[['latitude','longitude']].head()"
   ]
  },
  {
   "cell_type": "code",
   "execution_count": 50,
   "id": "44ac8712",
   "metadata": {},
   "outputs": [
    {
     "name": "stdout",
     "output_type": "stream",
     "text": [
      "<class 'pandas.core.frame.DataFrame'>\n",
      "Int64Index: 8002 entries, 0 to 8001\n",
      "Data columns (total 14 columns):\n",
      " #   Column                   Non-Null Count  Dtype         \n",
      "---  ------                   --------------  -----         \n",
      " 0   date                     8002 non-null   datetime64[ns]\n",
      " 1   manner_of_death          8002 non-null   object        \n",
      " 2   armed                    8002 non-null   object        \n",
      " 3   age                      8002 non-null   int32         \n",
      " 4   gender                   8002 non-null   category      \n",
      " 5   race                     8002 non-null   object        \n",
      " 6   city                     8002 non-null   object        \n",
      " 7   signs_of_mental_illness  8002 non-null   bool          \n",
      " 8   threat_level             8002 non-null   object        \n",
      " 9   flee                     8002 non-null   object        \n",
      " 10  body_camera              8002 non-null   bool          \n",
      " 11  longitude                8002 non-null   float64       \n",
      " 12  latitude                 8002 non-null   float64       \n",
      " 13  state                    7978 non-null   object        \n",
      "dtypes: bool(2), category(1), datetime64[ns](1), float64(2), int32(1), object(7)\n",
      "memory usage: 742.5+ KB\n"
     ]
    }
   ],
   "source": [
    "shooting_data_clean.info()"
   ]
  },
  {
   "cell_type": "code",
   "execution_count": 51,
   "id": "72f4cca4",
   "metadata": {},
   "outputs": [],
   "source": [
    "shooting_data_clean.to_csv('../3_Analysis/police_shooting.csv', index=False)"
   ]
  },
  {
   "cell_type": "code",
   "execution_count": null,
   "id": "9821f348",
   "metadata": {},
   "outputs": [],
   "source": []
  },
  {
   "cell_type": "code",
   "execution_count": null,
   "id": "e0375e82",
   "metadata": {},
   "outputs": [],
   "source": []
  }
 ],
 "metadata": {
  "kernelspec": {
   "display_name": "Python 3 (ipykernel)",
   "language": "python",
   "name": "python3"
  },
  "language_info": {
   "codemirror_mode": {
    "name": "ipython",
    "version": 3
   },
   "file_extension": ".py",
   "mimetype": "text/x-python",
   "name": "python",
   "nbconvert_exporter": "python",
   "pygments_lexer": "ipython3",
   "version": "3.9.9"
  }
 },
 "nbformat": 4,
 "nbformat_minor": 5
}
