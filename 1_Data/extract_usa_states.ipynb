{
 "cells": [
  {
   "cell_type": "code",
   "execution_count": 1,
   "id": "b6dbe9b8",
   "metadata": {},
   "outputs": [],
   "source": [
    "import requests\n",
    "from bs4 import BeautifulSoup"
   ]
  },
  {
   "cell_type": "code",
   "execution_count": 3,
   "id": "a3c3ebc1",
   "metadata": {},
   "outputs": [],
   "source": [
    "headers = {\n",
    "    'User-Agent': 'Mozilla/5.0 (Windows NT 10.0; Win64; x64; rv:103.0) Gecko/20100101 Firefox/103.0',\n",
    "}\n",
    "\n",
    "url = 'https://abbreviations.yourdictionary.com/articles/state-abbrev.html'"
   ]
  },
  {
   "cell_type": "code",
   "execution_count": 4,
   "id": "db1d467d",
   "metadata": {},
   "outputs": [],
   "source": [
    "response = requests.get(url, headers=headers)"
   ]
  },
  {
   "cell_type": "code",
   "execution_count": 5,
   "id": "0a18b194",
   "metadata": {},
   "outputs": [],
   "source": [
    "with open('usa_states.html', 'w', encoding=\"utf-8\") as usa_states:\n",
    "    usa_states.write(response.text)\n"
   ]
  },
  {
   "cell_type": "code",
   "execution_count": 6,
   "id": "cd193b97",
   "metadata": {},
   "outputs": [],
   "source": [
    "with open('usa_states.html', 'r', encoding=\"utf-8\") as usa_states:\n",
    "    soup = BeautifulSoup(usa_states, 'html.parser')"
   ]
  },
  {
   "cell_type": "code",
   "execution_count": 7,
   "id": "0260ec18",
   "metadata": {},
   "outputs": [],
   "source": [
    "states_table = soup.find('table').find_all('tr')"
   ]
  },
  {
   "cell_type": "code",
   "execution_count": 8,
   "id": "d19df51e",
   "metadata": {},
   "outputs": [
    {
     "data": {
      "text/plain": [
       "[<tr>\n",
       " <td><strong>State Name</strong></td>\n",
       " <td><strong>USPS Abbreviation</strong></td>\n",
       " <td><strong>Traditional Abbreviation</strong></td>\n",
       " </tr>,\n",
       " <tr>\n",
       " <td>Alabama</td>\n",
       " <td>AL</td>\n",
       " <td>Ala.</td>\n",
       " </tr>,\n",
       " <tr>\n",
       " <td>Alaska</td>\n",
       " <td>AK</td>\n",
       " <td>Alaska</td>\n",
       " </tr>]"
      ]
     },
     "execution_count": 8,
     "metadata": {},
     "output_type": "execute_result"
    }
   ],
   "source": [
    "states_table[:3]"
   ]
  },
  {
   "cell_type": "code",
   "execution_count": 9,
   "id": "c635ad0c",
   "metadata": {},
   "outputs": [],
   "source": [
    "states_names = []"
   ]
  },
  {
   "cell_type": "code",
   "execution_count": 10,
   "id": "792fab2a",
   "metadata": {},
   "outputs": [],
   "source": [
    "states_names.clear()\n",
    "for table in states_table:\n",
    "    td = table.find_all('td')\n",
    "    state_name =  td[0].string\n",
    "    state_abbr = td[1].string\n",
    "    states_names.append([state_name, state_abbr])"
   ]
  },
  {
   "cell_type": "code",
   "execution_count": 11,
   "id": "dfff73f9",
   "metadata": {},
   "outputs": [],
   "source": [
    "import os\n",
    "os.remove('./usa_states.html')"
   ]
  },
  {
   "cell_type": "code",
   "execution_count": null,
   "id": "76586956",
   "metadata": {},
   "outputs": [],
   "source": []
  }
 ],
 "metadata": {
  "kernelspec": {
   "display_name": "Python 3 (ipykernel)",
   "language": "python",
   "name": "python3"
  },
  "language_info": {
   "codemirror_mode": {
    "name": "ipython",
    "version": 3
   },
   "file_extension": ".py",
   "mimetype": "text/x-python",
   "name": "python",
   "nbconvert_exporter": "python",
   "pygments_lexer": "ipython3",
   "version": "3.9.9"
  }
 },
 "nbformat": 4,
 "nbformat_minor": 5
}
